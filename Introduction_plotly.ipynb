{
  "nbformat": 4,
  "nbformat_minor": 0,
  "metadata": {
    "colab": {
      "name": "Introduction_plotly.ipynb",
      "private_outputs": true,
      "provenance": [],
      "collapsed_sections": [],
      "authorship_tag": "ABX9TyMYRF8SPFtQjMBvo4GPkdIX",
      "include_colab_link": true
    },
    "kernelspec": {
      "name": "python3",
      "display_name": "Python 3"
    },
    "accelerator": "GPU"
  },
  "cells": [
    {
      "cell_type": "markdown",
      "metadata": {
        "id": "view-in-github",
        "colab_type": "text"
      },
      "source": [
        "<a href=\"https://colab.research.google.com/github/sgoliszek/Slawek/blob/master/Introduction_plotly.ipynb\" target=\"_parent\"><img src=\"https://colab.research.google.com/assets/colab-badge.svg\" alt=\"Open In Colab\"/></a>"
      ]
    },
    {
      "cell_type": "code",
      "metadata": {
        "id": "cnxLfxBZNEkc"
      },
      "source": [
        "!pip install -q chart_studio\r\n",
        "!pip install -q --upgrade plotly"
      ],
      "execution_count": null,
      "outputs": []
    },
    {
      "cell_type": "code",
      "metadata": {
        "id": "ufvkq5h9N3xR"
      },
      "source": [
        "import plotly\r\n",
        "print(plotly.__version__)"
      ],
      "execution_count": null,
      "outputs": []
    },
    {
      "cell_type": "code",
      "metadata": {
        "id": "akxISMJROE4g"
      },
      "source": [
        "import plotly.express as px\r\n",
        "\r\n",
        "data = px.data.iris()\r\n",
        "data.head()"
      ],
      "execution_count": null,
      "outputs": []
    },
    {
      "cell_type": "code",
      "metadata": {
        "id": "Yecv9wnQPMSx"
      },
      "source": [
        "data.describe(include=\"object\")"
      ],
      "execution_count": null,
      "outputs": []
    },
    {
      "cell_type": "code",
      "metadata": {
        "id": "D51OIUpBOeyF"
      },
      "source": [
        "px.scatter?"
      ],
      "execution_count": null,
      "outputs": []
    },
    {
      "cell_type": "code",
      "metadata": {
        "id": "YFs0_-amOsA5"
      },
      "source": [
        "px.scatter(data_frame=data, x='sepal_length', y='sepal_width', width=800, height=700)"
      ],
      "execution_count": null,
      "outputs": []
    },
    {
      "cell_type": "code",
      "metadata": {
        "id": "diPhzJxXUPxb"
      },
      "source": [
        "px.scatter(data_frame=data, \r\n",
        "           x='sepal_length', \r\n",
        "           y='sepal_width', \r\n",
        "           color='species',\r\n",
        "           marginal_x='violin',\r\n",
        "           marginal_y='violin',\r\n",
        "           symbol='species',\r\n",
        "           title='Iris Dataset',\r\n",
        "           trendline='ols',\r\n",
        "           width=1200, \r\n",
        "           height=800)"
      ],
      "execution_count": null,
      "outputs": []
    },
    {
      "cell_type": "code",
      "metadata": {
        "id": "OHdD2fh0J4QN"
      },
      "source": [
        ""
      ],
      "execution_count": null,
      "outputs": []
    },
    {
      "cell_type": "code",
      "metadata": {
        "id": "WO_wRRr1Gq5s"
      },
      "source": [
        "df = px.data.tips()\r\n",
        "df.head()"
      ],
      "execution_count": null,
      "outputs": []
    },
    {
      "cell_type": "code",
      "metadata": {
        "id": "MKcNbcOiG5Cq"
      },
      "source": [
        "df.describe()"
      ],
      "execution_count": null,
      "outputs": []
    },
    {
      "cell_type": "code",
      "metadata": {
        "id": "0jHLP-rQHF7w"
      },
      "source": [
        "df.describe(include=['object'])"
      ],
      "execution_count": null,
      "outputs": []
    },
    {
      "cell_type": "code",
      "metadata": {
        "id": "K4Bva-MbHeV1"
      },
      "source": [
        "df.head(3)"
      ],
      "execution_count": null,
      "outputs": []
    },
    {
      "cell_type": "code",
      "metadata": {
        "id": "2QKgu5HPHSZR"
      },
      "source": [
        "px.scatter(data_frame=df,\r\n",
        "           x='total_bill',\r\n",
        "           y='tip',\r\n",
        "           facet_col='day',\r\n",
        "           category_orders={'day':['Thur', 'Fri', 'Sat', 'Sun']},\r\n",
        "           trendline='ols',\r\n",
        "           color='smoker',\r\n",
        "           width=1200, \r\n",
        "           height=800)"
      ],
      "execution_count": null,
      "outputs": []
    },
    {
      "cell_type": "code",
      "metadata": {
        "id": "QpNN7cTAJU0C"
      },
      "source": [
        "px.scatter(data_frame=df,\r\n",
        "           x='total_bill',\r\n",
        "           y='tip',\r\n",
        "           facet_row='time',\r\n",
        "           category_orders={'day':['Thur', 'Fri', 'Sat', 'Sun']},\r\n",
        "           trendline='ols',\r\n",
        "           color='smoker',\r\n",
        "           width=1200, \r\n",
        "           height=800)"
      ],
      "execution_count": null,
      "outputs": []
    },
    {
      "cell_type": "code",
      "metadata": {
        "id": "r1EaZ7K5J5y0"
      },
      "source": [
        "data = px.data.iris()\r\n",
        "data.head(2)"
      ],
      "execution_count": null,
      "outputs": []
    },
    {
      "cell_type": "code",
      "metadata": {
        "id": "Q6YPsIAaKEPL"
      },
      "source": [
        "px.scatter_matrix?"
      ],
      "execution_count": null,
      "outputs": []
    },
    {
      "cell_type": "code",
      "metadata": {
        "id": "YQ335FZmKL-Q"
      },
      "source": [
        "px.scatter_matrix(data, dimensions=['sepal_length','sepal_width','petal_length','petal_width'],\r\n",
        "                  color='species',\r\n",
        "                  title='Scatter matrix')\r\n"
      ],
      "execution_count": null,
      "outputs": []
    },
    {
      "cell_type": "code",
      "metadata": {
        "id": "RjFaE71kM_Xx"
      },
      "source": [
        "px.parallel_coordinates?\r\n",
        "data.head(2)"
      ],
      "execution_count": null,
      "outputs": []
    },
    {
      "cell_type": "code",
      "metadata": {
        "id": "o8MEsyBJNFLa"
      },
      "source": [
        "px.parallel_coordinates(data,\r\n",
        "                        color='species_id',\r\n",
        "                        )"
      ],
      "execution_count": null,
      "outputs": []
    },
    {
      "cell_type": "code",
      "metadata": {
        "id": "uIjlY44rN-uc"
      },
      "source": [
        "data = px.data.tips()\r\n",
        "data.head(2)"
      ],
      "execution_count": null,
      "outputs": []
    },
    {
      "cell_type": "code",
      "metadata": {
        "id": "8Bp-_9VUOGQz"
      },
      "source": [
        "px.parallel_categories(data,\r\n",
        "                       color='size')"
      ],
      "execution_count": null,
      "outputs": []
    },
    {
      "cell_type": "code",
      "metadata": {
        "id": "T08VMeZaPCgN"
      },
      "source": [
        "df = px.data.gapminder()\r\n",
        "df.head(4)"
      ],
      "execution_count": null,
      "outputs": []
    },
    {
      "cell_type": "code",
      "metadata": {
        "id": "aeY0as9TPMgI"
      },
      "source": [
        "df.describe()"
      ],
      "execution_count": null,
      "outputs": []
    },
    {
      "cell_type": "code",
      "metadata": {
        "id": "8sLcCeIMPdEc"
      },
      "source": [
        "df.describe(include='object')"
      ],
      "execution_count": null,
      "outputs": []
    },
    {
      "cell_type": "code",
      "metadata": {
        "id": "DSd6s3VxPsLT"
      },
      "source": [
        "px.scatter?\r\n",
        "df.head(2)"
      ],
      "execution_count": null,
      "outputs": []
    },
    {
      "cell_type": "code",
      "metadata": {
        "id": "57JejAiFPwHa"
      },
      "source": [
        "px.scatter(df.query('year == 2007'),\r\n",
        "           x='gdpPercap',\r\n",
        "           y='lifeExp',\r\n",
        "           size='pop',\r\n",
        "           color='continent',\r\n",
        "           log_x=True,\r\n",
        "           hover_name='country',\r\n",
        "           size_max=60)"
      ],
      "execution_count": null,
      "outputs": []
    },
    {
      "cell_type": "code",
      "metadata": {
        "id": "tyQ3dqmjR0sY"
      },
      "source": [
        "px.scatter(df,\r\n",
        "           x='gdpPercap',\r\n",
        "           y='lifeExp',\r\n",
        "           size='pop',\r\n",
        "           color='continent',\r\n",
        "           log_x=True,\r\n",
        "           hover_name='country',\r\n",
        "           size_max=60,\r\n",
        "           animation_frame='year',\r\n",
        "           range_y=[25,90])"
      ],
      "execution_count": null,
      "outputs": []
    },
    {
      "cell_type": "code",
      "metadata": {
        "id": "mujSHDwDSzK4"
      },
      "source": [
        "px.scatter(df,\r\n",
        "           x='gdpPercap',\r\n",
        "           y='lifeExp',\r\n",
        "           size='pop',\r\n",
        "           color='continent',\r\n",
        "           log_x=True,\r\n",
        "           hover_name='country',\r\n",
        "           size_max=60,\r\n",
        "           animation_frame='year',\r\n",
        "           range_y=[25,90],\r\n",
        "           facet_col='continent')"
      ],
      "execution_count": null,
      "outputs": []
    },
    {
      "cell_type": "code",
      "metadata": {
        "id": "K_OnvCvQTKM9"
      },
      "source": [
        "df.head(1)"
      ],
      "execution_count": null,
      "outputs": []
    },
    {
      "cell_type": "code",
      "metadata": {
        "id": "NUygOXFBTPXW"
      },
      "source": [
        "px.line(df.query(\"country == 'Poland'\"), x='year', y='pop')\r\n",
        "        "
      ],
      "execution_count": null,
      "outputs": []
    },
    {
      "cell_type": "code",
      "metadata": {
        "id": "yoWjRvdJUdWg"
      },
      "source": [
        "px.line(df.query(\"continent == 'Europe'\"), x='year', y='pop', color='country')"
      ],
      "execution_count": null,
      "outputs": []
    }
  ]
}